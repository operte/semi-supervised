{
 "cells": [
  {
   "cell_type": "markdown",
   "metadata": {},
   "source": [
    "# Semisupervised Hackathon\n",
    "## Simple ML Model"
   ]
  },
  {
   "cell_type": "markdown",
   "metadata": {},
   "source": [
    "## 1. Load the libraries & dataset"
   ]
  },
  {
   "cell_type": "code",
   "execution_count": null,
   "metadata": {},
   "outputs": [],
   "source": [
    "from src.data.preprocessing import DataProcessor\n",
    "from src.utils.util_funcs import get_tokens, load_nlp_model\n",
    "from sklearn.feature_extraction.text import TfidfVectorizer,CountVectorizer,TfidfTransformer\n",
    "from sklearn.linear_model import LogisticRegressionCV,SGDClassifier\n",
    "from sklearn.pipeline import make_pipeline,Pipeline\n",
    "from sklearn.metrics import roc_auc_score \n",
    "import pandas as pd \n",
    "import spacy\n",
    "import numpy as np"
   ]
  },
  {
   "cell_type": "code",
   "execution_count": null,
   "metadata": {},
   "outputs": [],
   "source": [
    "nlp = load_nlp_model()"
   ]
  },
  {
   "cell_type": "code",
   "execution_count": null,
   "metadata": {},
   "outputs": [],
   "source": [
    "#Read the dataset\n",
    "train_data = pd.read_csv('data/train.csv')\n",
    "train_data['processed_text'] = train_data['text'].apply(lambda x: get_tokens(x, nlp=nlp))\n",
    "train_data['processed_text_vectors'] = train_data['text'].apply(lambda x: get_tokens(x, nlp=nlp, vectors=True))\n",
    "# In some cases, the processed text is empty (twitter grammar not the best one eheh), hence the if else statement\n",
    "train_data['avg_vector'] = train_data['processed_text_vectors'].apply(lambda x: np.mean(x, axis=0) if x else np.NaN)\n",
    "\n",
    "test_data = pd.read_csv('data/test.csv')\n",
    "test_data['processed_text'] = test_data['text'].apply(lambda x: get_tokens(x, nlp=nlp))\n",
    "test_data['processed_text_vectors'] = test_data['text'].apply(lambda x: get_tokens(x, nlp=nlp, vectors=True))\n",
    "test_data['avg_vector'] = test_data['processed_text_vectors'].apply(lambda x: np.mean(x, axis=0) if x else np.NaN)\n",
    "\n",
    "X_train = train_data[['avg_vector']]\n",
    "y_train = train_data[['target']]\n",
    "\n",
    "X_test = test_data[['avg_vector']]"
   ]
  },
  {
   "cell_type": "markdown",
   "metadata": {},
   "source": [
    "## 2. Create a simple model."
   ]
  },
  {
   "cell_type": "code",
   "execution_count": null,
   "metadata": {},
   "outputs": [],
   "source": [
    "# Preprocess the dataset. \n",
    "dp = DataProcessor()\n",
    "xtrain = dp.transform(X_train,data_cols=['keyword','text']) \n",
    "xtest = dp.transform(X_test,data_cols=['keyword','text'])\n",
    "\n",
    "# Create a simple model.\n",
    "vec = CountVectorizer(max_features=20)\n",
    "clf = LogisticRegressionCV()\n",
    "pipe = make_pipeline(vec, clf)\n",
    "pipe.fit(xtrain.news, y_train.target)\n",
    "\n",
    "# Create predictions\n",
    "train_probas = pipe.predict_proba(xtrain.news)[:,1]\n",
    "print(f\"Train AUC : {roc_auc_score(y_train,train_probas)}\")\n",
    "probas = pipe.predict_proba(xtest.news)[:,1]\n"
   ]
  },
  {
   "cell_type": "markdown",
   "metadata": {},
   "source": [
    "## 3. Create a submission"
   ]
  },
  {
   "cell_type": "code",
   "execution_count": null,
   "metadata": {},
   "outputs": [],
   "source": [
    "#Create a sample submission\n",
    "sample_df = pd.DataFrame({\n",
    "    'id':test_data.id,\n",
    "    'target':probas\n",
    "})\n",
    "sample_df.to_csv('data/sample_submission.csv',index=False)"
   ]
  },
  {
   "cell_type": "code",
   "execution_count": null,
   "metadata": {},
   "outputs": [],
   "source": [
    "!kaggle competitions submit -c semi-supervised-3 -f data/sample_submission.csv -m \"Latest submission\""
   ]
  }
 ],
 "metadata": {
  "kernelspec": {
   "name": "python385jvsc74a57bd08e49cfe642491b512b115a5922d6a1bbf3a9150e82acdbc4a22eeec96323999d",
   "display_name": "Python 3.8.5 64-bit ('WebScraping': conda)"
  },
  "language_info": {
   "codemirror_mode": {
    "name": "ipython",
    "version": 3
   },
   "file_extension": ".py",
   "mimetype": "text/x-python",
   "name": "python",
   "nbconvert_exporter": "python",
   "pygments_lexer": "ipython3",
   "version": "3.8.5"
  }
 },
 "nbformat": 4,
 "nbformat_minor": 4
}