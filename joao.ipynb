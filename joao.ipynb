{
 "cells": [
  {
   "source": [
    "# Ideas\n",
    "\n",
    "- LabelSpreading instead of LabelPropagation\n",
    "- active learning layer after label propagation (but how to score without using kaggle?)\n",
    "- tree model after label propagation? "
   ],
   "cell_type": "markdown",
   "metadata": {}
  },
  {
   "cell_type": "markdown",
   "metadata": {},
   "source": [
    "# Semisupervised Hackathon\n",
    "## Simple ML Model"
   ]
  },
  {
   "cell_type": "markdown",
   "metadata": {},
   "source": [
    "## 1. Load the libraries & dataset"
   ]
  },
  {
   "cell_type": "code",
   "execution_count": null,
   "metadata": {},
   "outputs": [],
   "source": [
    "from src.data.preprocessing import DataProcessor, DenseTransformer\n",
    "from sklearn.feature_extraction.text import TfidfVectorizer,CountVectorizer,TfidfTransformer\n",
    "from sklearn.linear_model import LogisticRegressionCV,SGDClassifier\n",
    "from sklearn.ensemble import RandomForestClassifier\n",
    "from sklearn.pipeline import make_pipeline,Pipeline\n",
    "from sklearn.metrics import roc_auc_score \n",
    "from sklearn.model_selection import train_test_split, GridSearchCV\n",
    "from sklearn.semi_supervised import LabelPropagation\n",
    "import numpy as np\n",
    "import pandas as pd "
   ]
  },
  {
   "cell_type": "code",
   "execution_count": null,
   "metadata": {},
   "outputs": [],
   "source": [
    "#Read the dataset\n",
    "train_data = pd.read_csv('data/train.csv')\n",
    "unlabelled_data = pd.read_csv('data/unlabelled_data.csv')\n",
    "test_data = pd.read_csv('data/test.csv')\n",
    "\n",
    "X_train = train_data[['keyword','text']]\n",
    "y_train = train_data[['target']]\n",
    "\n",
    "X_unlabelled = unlabelled_data[['keyword','text']]\n",
    "\n",
    "X_test = test_data[['keyword','text']]"
   ]
  },
  {
   "cell_type": "markdown",
   "metadata": {},
   "source": [
    "## 2. Create a simple model."
   ]
  },
  {
   "cell_type": "code",
   "execution_count": null,
   "metadata": {},
   "outputs": [],
   "source": [
    "%%time\n",
    "# Preprocess the dataset. \n",
    "dp = DataProcessor()\n",
    "xtrain = dp.transform(X_train,data_cols=['keyword','text']).news\n",
    "xunlabelled = dp.transform(X_unlabelled,data_cols=['keyword','text']).news\n",
    "xtest = dp.transform(X_test,data_cols=['keyword','text']).news\n",
    "ytrain = y_train.target.copy()\n",
    "yunlabelled = [-1 for _ in range(len(xunlabelled))]\n",
    "\n",
    "# param_grid = [\n",
    "#         {'bootstrap': [False, True],\n",
    "#          'n_estimators': [10, 50],\n",
    "#          'max_depth': [2, 10],\n",
    "#          'min_samples_leaf': [2, 10],\n",
    "#          'min_samples_split': [2, 10]\n",
    "#         },\n",
    "#     ]\n",
    "\n",
    "# Create a simple model.\n",
    "vec = CountVectorizer(max_features=20)\n",
    "lp = LabelPropagation()\n",
    "clf = RandomForestClassifier()\n",
    "# grid_search = GridSearchCV(clf, param_grid, cv=5, scoring='roc_auc', refit=True)\n",
    "\n",
    "xtrain = vec.fit_transform(xtrain).toarray()\n",
    "xunlabelled = vec.fit_transform(xunlabelled).toarray()\n",
    "xtest = vec.transform(xtest).toarray()\n",
    "\n",
    "xmixed = np.concatenate((xtrain, xunlabelled))\n",
    "ymixed = np.concatenate((ytrain, yunlabelled))\n",
    "\n",
    "lp.fit(xmixed, ymixed)\n",
    "ymixed = lp.transduction_\n",
    "\n",
    "clf.fit(xmixed, ymixed)\n",
    "\n",
    "#xtrain = vec.fit_transform(xtrain)\n",
    "#xtest = vec.transform(xtest)\n",
    "\n",
    "# Create predictions\n",
    "train_probas = lp.predict_proba(xtrain)[:,1]\n",
    "print(f\"Train AUC : {roc_auc_score(y_train,train_probas)}\")\n",
    "probas = lp.predict_proba(xtest)[:,1]"
   ]
  },
  {
   "cell_type": "markdown",
   "metadata": {},
   "source": [
    "## 3. Create a submission"
   ]
  },
  {
   "cell_type": "code",
   "execution_count": null,
   "metadata": {},
   "outputs": [],
   "source": [
    "#Create a sample submission\n",
    "sample_df = pd.DataFrame({\n",
    "    'id':test_data.id,\n",
    "    'target':probas\n",
    "})\n",
    "sample_df.to_csv('data/sample_submission.csv',index=False)"
   ]
  },
  {
   "cell_type": "code",
   "execution_count": null,
   "metadata": {},
   "outputs": [],
   "source": [
    "!kaggle competitions submit -c semi-supervised-3 -f data/sample_submission.csv -m \"Latest submission\""
   ]
  }
 ],
 "metadata": {
  "kernelspec": {
   "name": "python388jvsc74a57bd09919f76640f8d69c95119de6d10b189fddd758802ef5abb02d09a410e646625a",
   "display_name": "Python 3.8.8 64-bit ('base': conda)"
  },
  "language_info": {
   "codemirror_mode": {
    "name": "ipython",
    "version": 3
   },
   "file_extension": ".py",
   "mimetype": "text/x-python",
   "name": "python",
   "nbconvert_exporter": "python",
   "pygments_lexer": "ipython3",
   "version": "3.8.8-final"
  }
 },
 "nbformat": 4,
 "nbformat_minor": 4
}