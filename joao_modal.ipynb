{
 "cells": [
  {
   "source": [
    "# Ideas\n",
    "\n",
    "- LabelSpreading instead of LabelPropagation\n",
    "- active learning layer after label propagation (but how to score without using kaggle?)\n",
    "- tree model after label propagation? "
   ],
   "cell_type": "markdown",
   "metadata": {}
  },
  {
   "cell_type": "markdown",
   "metadata": {},
   "source": [
    "# Semisupervised Hackathon\n",
    "## Simple ML Model"
   ]
  },
  {
   "cell_type": "markdown",
   "metadata": {},
   "source": [
    "## 1. Load the libraries & dataset"
   ]
  },
  {
   "cell_type": "code",
   "execution_count": null,
   "metadata": {},
   "outputs": [],
   "source": [
    "from src.data.preprocessing import DataProcessor, DenseTransformer\n",
    "from sklearn.feature_extraction.text import TfidfVectorizer,CountVectorizer,TfidfTransformer\n",
    "from sklearn.linear_model import LogisticRegressionCV,SGDClassifier, LogisticRegression\n",
    "from sklearn.ensemble import RandomForestClassifier\n",
    "from sklearn.pipeline import make_pipeline,Pipeline\n",
    "from sklearn.metrics import roc_auc_score \n",
    "from sklearn.model_selection import train_test_split, GridSearchCV\n",
    "from sklearn.semi_supervised import LabelPropagation\n",
    "\n",
    "import numpy as np\n",
    "import pandas as pd \n",
    "\n",
    "from modAL.models import ActiveLearner\n",
    "from modAL.uncertainty import uncertainty_sampling\n",
    "\n",
    "from IPython import display\n",
    "from matplotlib import pyplot as plt\n",
    "%matplotlib inline"
   ]
  },
  {
   "cell_type": "code",
   "execution_count": null,
   "metadata": {},
   "outputs": [],
   "source": [
    "#Read the dataset\n",
    "train_data = pd.read_csv('data/train.csv')\n",
    "unlabelled_data = pd.read_csv('data/unlabelled_data.csv')\n",
    "test_data = pd.read_csv('data/test.csv')\n",
    "\n",
    "X_train = train_data[['keyword','text']]\n",
    "y_train = train_data[['target']]\n",
    "\n",
    "X_unlabelled = unlabelled_data[['keyword','text']]\n",
    "\n",
    "X_test = test_data[['keyword','text']]"
   ]
  },
  {
   "cell_type": "code",
   "execution_count": null,
   "metadata": {},
   "outputs": [],
   "source": [
    "sample = X_unlabelled['text'].sample(20)\n",
    "idx_list = sample.index\n",
    "label_list = []\n",
    "\n",
    "for entry in sample:\n",
    "    print(entry)\n",
    "    label_list.append(int(input()))"
   ]
  },
  {
   "cell_type": "code",
   "execution_count": null,
   "metadata": {},
   "outputs": [],
   "source": [
    "idx_list"
   ]
  },
  {
   "cell_type": "code",
   "execution_count": null,
   "metadata": {},
   "outputs": [],
   "source": [
    "label_list"
   ]
  },
  {
   "cell_type": "code",
   "execution_count": null,
   "metadata": {},
   "outputs": [],
   "source": [
    "x= [46, 47, 51, 58, 189, 192, 200, 202, 214, 850, 855, 861, 862, 1529, 1541, 1542, 2449, 2477, 2484]\n",
    "y = [0, 0, 0, 0, 0, 0, 1, 1, 1, 1, 1, 1, 1, 0, 0, 0, 0, 1, 0]"
   ]
  },
  {
   "cell_type": "code",
   "execution_count": null,
   "metadata": {},
   "outputs": [],
   "source": [
    "#Read the dataset\n",
    "train_data = pd.read_csv('data/train.csv')\n",
    "unlabelled_data = pd.read_csv('data/unlabelled_data.csv')\n",
    "test_data = pd.read_csv('data/test.csv')\n",
    "\n",
    "X_train = train_data[['keyword','text']]\n",
    "y_train = train_data[['target']]\n",
    "\n",
    "X_unlabelled = unlabelled_data[['keyword','text']]\n",
    "\n",
    "X_test = test_data[['keyword','text']]\n",
    "\n",
    "manually_labelled_idx = [ 206, 1659, 1234, 1793,  557, 1720,  391,  852,  680,  637, 2122,\n",
    "            1173, 1478,  739,  633, 2147,   18, 1107, 1262,  765, 45, 1700,  697, 2115,  953, 1865,  823,  605, 1561, 1224, 1294,\n",
    "            1149, 1211, 2128,  927, 1452,  291, 1185,  842,  423]\n",
    "manually_labelled_y = pd.DataFrame([0, 0, 1, 0, 0, 0, 0, 0, 0, 0, 0, 0, 1, 0, 0, 1, 1, 0, 0, 0,\n",
    "1, 0, 1, 1, 0, 0, 1, 1, 0, 1, 1, 0, 1, 0, 1, 1, 0, 0, 1, 0], columns=['target'])\n",
    "\n",
    "X_train_new = pd.concat((X_train, X_unlabelled.iloc[manually_labelled_idx]))\n",
    "y_train_new = pd.concat((y_train, manually_labelled_y))"
   ]
  },
  {
   "cell_type": "code",
   "execution_count": null,
   "metadata": {},
   "outputs": [],
   "source": [
    "len(y_train_new)"
   ]
  },
  {
   "cell_type": "code",
   "execution_count": null,
   "metadata": {},
   "outputs": [],
   "source": [
    "X_train_new.shape"
   ]
  },
  {
   "cell_type": "markdown",
   "metadata": {},
   "source": [
    "## 2. Create a simple model."
   ]
  },
  {
   "cell_type": "code",
   "execution_count": null,
   "metadata": {},
   "outputs": [],
   "source": [
    "%%time\n",
    "# Preprocess the dataset. \n",
    "dp = DataProcessor()\n",
    "xtrain = dp.transform(X_train,data_cols=['keyword','text']).news\n",
    "xunlabelled = dp.transform(X_unlabelled,data_cols=['keyword','text']).news\n",
    "xtest = dp.transform(X_test,data_cols=['keyword','text']).news\n",
    "ytrain = y_train.target.copy()\n",
    "yunlabelled = [-1 for _ in range(len(xunlabelled))]\n",
    "\n",
    "# Create a simple model.\n",
    "vec = CountVectorizer(max_features=20)\n",
    "\n",
    "xtrain = vec.fit_transform(xtrain).toarray()\n",
    "xunlabelled = vec.fit_transform(xunlabelled).toarray()\n",
    "xtest = vec.transform(xtest).toarray()"
   ]
  },
  {
   "cell_type": "code",
   "execution_count": null,
   "metadata": {},
   "outputs": [],
   "source": [
    "learner = ActiveLearner(\n",
    "    estimator=RandomForestClassifier(),\n",
    "    query_strategy=uncertainty_sampling,\n",
    "    X_training=xtrain, y_training=ytrain.to_numpy()\n",
    ")\n",
    "\n",
    "n_queries = 20\n",
    "X_pool_text = unlabelled_data['text'].copy()\n",
    "X_pool = xunlabelled.copy()\n",
    "\n",
    "for i in range(n_queries):\n",
    "    query_idx, query_inst = learner.query(X_pool)\n",
    "\n",
    "    print(X_pool_text.iloc[query_idx].values)\n",
    "\n",
    "    print(\"Which target does this have?\")\n",
    "    y_new = np.array([int(input())], dtype=int)\n",
    "    learner.teach(X_pool[query_idx], y_new)\n",
    "\n",
    "    xunlabelled = np.delete(xunlabelled, query_idx, axis=0)"
   ]
  },
  {
   "cell_type": "code",
   "execution_count": null,
   "metadata": {},
   "outputs": [],
   "source": [
    "probas = learner.predict_proba(xtest)[:,1]"
   ]
  },
  {
   "cell_type": "code",
   "execution_count": null,
   "metadata": {},
   "outputs": [],
   "source": [
    "probas"
   ]
  },
  {
   "cell_type": "markdown",
   "metadata": {},
   "source": [
    "## 3. Create a submission"
   ]
  },
  {
   "cell_type": "code",
   "execution_count": null,
   "metadata": {},
   "outputs": [],
   "source": [
    "#Create a sample submission\n",
    "sample_df = pd.DataFrame({\n",
    "    'id':test_data.id,\n",
    "    'target':probas\n",
    "})\n",
    "sample_df.to_csv('data/sample_submission.csv',index=False)"
   ]
  },
  {
   "cell_type": "code",
   "execution_count": null,
   "metadata": {},
   "outputs": [],
   "source": [
    "!kaggle competitions submit -c semi-supervised-3 -f data/sample_submission.csv -m \"Latest submission\""
   ]
  }
 ],
 "metadata": {
  "kernelspec": {
   "name": "python388jvsc74a57bd09919f76640f8d69c95119de6d10b189fddd758802ef5abb02d09a410e646625a",
   "display_name": "Python 3.8.8 64-bit ('base': conda)"
  },
  "language_info": {
   "codemirror_mode": {
    "name": "ipython",
    "version": 3
   },
   "file_extension": ".py",
   "mimetype": "text/x-python",
   "name": "python",
   "nbconvert_exporter": "python",
   "pygments_lexer": "ipython3",
   "version": "3.8.8-final"
  }
 },
 "nbformat": 4,
 "nbformat_minor": 4
}