{
 "cells": [
  {
   "cell_type": "markdown",
   "metadata": {},
   "source": [
    "# Semisupervised Hackathon\n",
    "## Simple ML Model"
   ]
  },
  {
   "cell_type": "markdown",
   "metadata": {},
   "source": [
    "## 1. Load the libraries & dataset"
   ]
  },
  {
   "cell_type": "code",
   "execution_count": 37,
   "metadata": {},
   "outputs": [],
   "source": [
    "from src.data.preprocessing import DataProcessor\n",
    "from src.utils.util_funcs import get_tokens, load_nlp_model\n",
    "from sklearn.feature_extraction.text import TfidfVectorizer,CountVectorizer,TfidfTransformer\n",
    "from sklearn.linear_model import LogisticRegressionCV,SGDClassifier\n",
    "from sklearn.pipeline import make_pipeline,Pipeline\n",
    "from sklearn.metrics import roc_auc_score \n",
    "from sklearn.semi_supervised import LabelPropagation\n",
    "from sklearn.ensemble import RandomForestClassifier\n",
    "from sklearn.impute import SimpleImputer\n",
    "import pandas as pd \n",
    "import spacy\n",
    "import numpy as np"
   ]
  },
  {
   "cell_type": "code",
   "execution_count": 2,
   "metadata": {},
   "outputs": [],
   "source": [
    "nlp = load_nlp_model()"
   ]
  },
  {
   "cell_type": "code",
   "execution_count": 6,
   "metadata": {},
   "outputs": [],
   "source": [
    "def process_with_spacy(df):\n",
    "    df['processed_text'] = df['text'].apply(lambda x: get_tokens(x, nlp=nlp, vectors=False))\n",
    "    df['processed_text_vectors'] = df['text'].apply(lambda x: get_tokens(x, nlp=nlp, vectors=True))\n",
    "    # In some cases, the processed text is empty (twitter grammar not the best one eheh), hence the if else statement\n",
    "    df['avg_vector'] = df['processed_text_vectors'].apply(lambda x: np.mean(x, axis=0) if x else np.NaN)\n",
    "    return df\n",
    "\n",
    "#Read the dataset\n",
    "train_data = pd.read_csv('data/train.csv')\n",
    "train_data = process_with_spacy(train_data)\n",
    "\n",
    "unlabelled_data = pd.read_csv('data/unlabelled_data.csv')\n",
    "unlabelled_data = process_with_spacy(unlabelled_data)\n",
    "\n",
    "test_data = pd.read_csv('data/test.csv')\n",
    "test_data = process_with_spacy(test_data)"
   ]
  },
  {
   "cell_type": "code",
   "execution_count": 51,
   "metadata": {},
   "outputs": [],
   "source": [
    "def series_of_list_to_df(series):\n",
    "    #return np.concatenate(series.values, axis=0)\n",
    "    return pd.DataFrame.from_dict(dict(zip(series.index, series.values))).to_numpy().T\n",
    "\n",
    "X_train = series_of_list_to_df(train_data['avg_vector'])\n",
    "y_train = train_data['target']\n",
    "\n",
    "X_unlabelled = series_of_list_to_df(unlabelled_data['avg_vector'])\n",
    "y_unlabelled = [-1 for _ in range(X_unlabelled.shape[0])]\n",
    "\n",
    "X_mixed = np.concatenate((X_train, X_unlabelled), axis=0)\n",
    "y_mixed = np.concatenate((y_train, y_unlabelled))\n",
    "\n",
    "X_test = series_of_list_to_df(test_data['avg_vector'])"
   ]
  },
  {
   "cell_type": "markdown",
   "metadata": {},
   "source": [
    "## 2. Create a simple model."
   ]
  },
  {
   "cell_type": "code",
   "execution_count": 52,
   "metadata": {},
   "outputs": [
    {
     "output_type": "execute_result",
     "data": {
      "text/plain": [
       "(2178,)"
      ]
     },
     "metadata": {},
     "execution_count": 52
    }
   ],
   "source": [
    "y_mixed.shape"
   ]
  },
  {
   "cell_type": "code",
   "execution_count": 60,
   "metadata": {},
   "outputs": [
    {
     "output_type": "stream",
     "name": "stderr",
     "text": [
      "/Users/lo87ru/conda/lib/python3.8/site-packages/sklearn/semi_supervised/_label_propagation.py:281: RuntimeWarning: invalid value encountered in true_divide\n",
      "  self.label_distributions_ /= normalizer\n",
      "/Users/lo87ru/conda/lib/python3.8/site-packages/sklearn/semi_supervised/_label_propagation.py:290: ConvergenceWarning: max_iter=1000 was reached without convergence.\n",
      "  warnings.warn(\n",
      "CPU times: user 9.38 s, sys: 221 ms, total: 9.6 s\n",
      "Wall time: 3.43 s\n"
     ]
    }
   ],
   "source": [
    "%%time\n",
    "\n",
    "imp = SimpleImputer()\n",
    "lp = LabelPropagation()\n",
    "clf = RandomForestClassifier()\n",
    "\n",
    "X_mixed = imp.fit_transform(X_mixed)\n",
    "lp.fit(X_mixed, y_mixed)\n",
    "ymixed = lp.transduction_\n",
    "\n",
    "clf.fit(X_mixed, y_mixed)\n",
    "\n",
    "#xtrain = vec.fit_transform(xtrain)\n",
    "#xtest = vec.transform(xtest)\n",
    "\n",
    "# Create predictions\n",
    "# train_probas = lp.predict_proba(X_train)[:,1]\n",
    "# print(f\"Train AUC : {roc_auc_score(y_train,train_probas)}\")\n",
    "\n",
    "X_test = imp.transform(X_test)\n",
    "probas = clf.predict_proba(X_test)[:,1]"
   ]
  },
  {
   "cell_type": "markdown",
   "metadata": {},
   "source": [
    "## 3. Create a submission"
   ]
  },
  {
   "cell_type": "code",
   "execution_count": 61,
   "metadata": {},
   "outputs": [],
   "source": [
    "#Create a sample submission\n",
    "sample_df = pd.DataFrame({\n",
    "    'id':test_data.id,\n",
    "    'target':probas\n",
    "})\n",
    "sample_df.to_csv('data/sample_submission.csv',index=False)"
   ]
  },
  {
   "cell_type": "code",
   "execution_count": null,
   "metadata": {},
   "outputs": [],
   "source": [
    "!kaggle competitions submit -c semi-supervised-3 -f data/sample_submission.csv -m \"Latest submission\""
   ]
  }
 ],
 "metadata": {
  "kernelspec": {
   "name": "python388jvsc74a57bd09919f76640f8d69c95119de6d10b189fddd758802ef5abb02d09a410e646625a",
   "display_name": "Python 3.8.8 64-bit ('base': conda)"
  },
  "language_info": {
   "codemirror_mode": {
    "name": "ipython",
    "version": 3
   },
   "file_extension": ".py",
   "mimetype": "text/x-python",
   "name": "python",
   "nbconvert_exporter": "python",
   "pygments_lexer": "ipython3",
   "version": "3.8.8-final"
  }
 },
 "nbformat": 4,
 "nbformat_minor": 4
}